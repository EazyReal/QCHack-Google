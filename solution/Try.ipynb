{
 "cells": [
  {
   "cell_type": "code",
   "execution_count": 114,
   "metadata": {},
   "outputs": [
    {
     "name": "stdout",
     "output_type": "stream",
     "text": [
      "cirq = 0.10.0\n",
      "scipy = 1.6.2\n"
     ]
    }
   ],
   "source": [
    "import cirq\n",
    "\n",
    "# may need to include\n",
    "import scipy \n",
    "from scipy.linalg import cossin\n",
    "import math\n",
    "\n",
    "print(\n",
    "    \"cirq = \" + cirq.__version__,\n",
    "    \"scipy = \" + scipy.__version__,\n",
    "    sep='\\n'\n",
    ")\n",
    "    "
   ]
  },
  {
   "cell_type": "code",
   "execution_count": 92,
   "metadata": {},
   "outputs": [],
   "source": [
    "from typing import List, Tuple\n",
    "\n",
    "import numpy as np\n",
    "\n",
    "\n",
    "def matrix_to_sycamore_operations(\n",
    "    target_qubits: List[cirq.GridQubit], matrix: np.ndarray\n",
    ") -> Tuple[cirq.OP_TREE, List[cirq.GridQubit]]:\n",
    "    \"\"\"A method to convert a unitary matrix to a list of Sycamore operations.\n",
    "\n",
    "    This method will return a list of `cirq.Operation`s using the qubits and (optionally) ancilla\n",
    "    qubits to implement the unitary matrix `matrix` on the target qubits `qubits`.\n",
    "    The operations are also supported by `cirq.google.gate_sets.SYC_GATESET`.\n",
    "\n",
    "    Args:\n",
    "        target_qubits: list of qubits the returned operations will act on. The qubit order defined by the list\n",
    "            is assumed to be used by the operations to implement `matrix`.\n",
    "        matrix: a matrix that is guaranteed to be unitary and of size (2**len(qs), 2**len(qs)).\n",
    "    Returns:\n",
    "        A tuple of operations and ancilla qubits allocated.\n",
    "            Operations: In case the matrix is supported, a list of operations `ops` is returned.\n",
    "                `ops` acts on `qs` qubits and for which `cirq.unitary(ops)` is equal to `matrix` up\n",
    "                 to certain tolerance. In case the matrix is not supported, it might return NotImplemented to\n",
    "                 reduce the noise in the judge output.\n",
    "            Ancilla qubits: In case ancilla qubits are allocated a list of ancilla qubits. Otherwise\n",
    "                an empty list.\n",
    "        .\n",
    "    \"\"\"\n",
    "    ## do the QSD decomposition\n",
    "    OP = QSD(matrix)\n",
    "    \n",
    "    return OP, []\n"
   ]
  },
  {
   "cell_type": "code",
   "execution_count": null,
   "metadata": {},
   "outputs": [],
   "source": [
    "def generate_Mk():"
   ]
  },
  {
   "cell_type": "code",
   "execution_count": 97,
   "metadata": {},
   "outputs": [],
   "source": [
    "debug = True\n",
    "\n",
    "# for (c -s s c) and (d_i)\n",
    "def DiagonalDecomposition(qs: List[cirq.GridQubit], A: np.ndarray):\n",
    "    OP = []\n",
    "    \n",
    "    return OP\n",
    "\n",
    "# AB_i = V, D, W (D/2)\n",
    "def Demultiplex(qs: List[cirq.GridQubit], A: np.ndarray):\n",
    "    OP = []\n",
    "    #  calculate the dimension\n",
    "    D = A.shape[0]\n",
    "    d = int(math.log(D, 2))\n",
    "                \n",
    "    U1 = A[np.ix_(range(0,D//2),range(0,D//2))]\n",
    "    U2 = A[np.ix_(range(D//2,D),range(D//2, D))]\n",
    "    #print(U1.shape, U2.shape)\n",
    "    \n",
    "    # V, D = cirq.linalg.unitary_eig()\n",
    "    Diag, V = scipy.linalg.schur(U1@U2, output=\"complex\")\n",
    "    #print(Diag.shape, V.shape)\n",
    "    \n",
    "    V = V;\n",
    "    Diag = np.sqrt(Diag);\n",
    "    W = Diag@(V.conj().T)@U2;\n",
    "    \n",
    "    OP += QSD(qs[:-1], V);\n",
    "    OP += []\n",
    "    OP += QSD(qs[:-1], W);\n",
    "    \n",
    "    return OP \n",
    "    \n",
    "\n",
    "# QSD ~= CSD + Demultiplex\n",
    "def QSD(qs: List[cirq.GridQubit], A: np.ndarray):\n",
    "    OP = []\n",
    "    #  calculate the dimension\n",
    "    D = A.shape[0]\n",
    "    d = int(math.log(D, 2))\n",
    "    \n",
    "    # edge condition, use cirq ZYZ\n",
    "    if (d==1):\n",
    "        a, b, c = cirq.linalg.deconstruct_single_qubit_matrix_into_angles(A)\n",
    "        return [cirq.qs[0]]\n",
    "    \n",
    "    # Decompose U to AB1, CS, AB2\n",
    "    from scipy.linalg import cossin\n",
    "    L, CS, R = cossin(A, D/2, D/2)\n",
    "    \n",
    "    OP += Demultiplex(qs, L)\n",
    "    OP += []\n",
    "    OP += Demultiplex(qs, R)\n",
    "    \n",
    "    return OP"
   ]
  },
  {
   "cell_type": "code",
   "execution_count": 96,
   "metadata": {},
   "outputs": [
    {
     "data": {
      "text/plain": [
       "[]"
      ]
     },
     "execution_count": 96,
     "metadata": {},
     "output_type": "execute_result"
    }
   ],
   "source": [
    "QSD([1,2], I2)"
   ]
  },
  {
   "cell_type": "code",
   "execution_count": null,
   "metadata": {},
   "outputs": [],
   "source": []
  },
  {
   "cell_type": "code",
   "execution_count": 115,
   "metadata": {},
   "outputs": [],
   "source": [
    "# I2 = np.eye(2**1)\n",
    "# cirq.linalg.deconstruct_single_qubit_matrix_into_angles(I) #in matrix, return angles"
   ]
  },
  {
   "cell_type": "code",
   "execution_count": 116,
   "metadata": {},
   "outputs": [],
   "source": [
    "#I2 = np.eye(2**2)\n",
    "#cossin(I2, 2, 2)"
   ]
  },
  {
   "cell_type": "code",
   "execution_count": 117,
   "metadata": {},
   "outputs": [],
   "source": [
    "# np.sqrt(I*4)"
   ]
  },
  {
   "cell_type": "markdown",
   "metadata": {},
   "source": [
    "## The supported gates on these qubits will be:\n",
    "- 1 qubit gates:\n",
    "    - [X/Z/Y]PowGate: cirq.google.Sycamore.validate_operation(cirq.X(a))\n",
    "    - PhasedXZGate: cirq.google.Sycamore.validate_operation(cirq.PhasedXZGate(x_exponent=1, z_exponent=1, axis_phase_exponent=1.2)(a))\n",
    "- 2 qubit gates:\n",
    "    - sqrt of ISWAP: cirq.google.Sycamore.validate_operation(cirq.ISWAP(a,b)**0.5)\n",
    "    - SYC gate: cirq.google.Sycamore.validate_operation(cirq.google.SYC(a,b))"
   ]
  },
  {
   "cell_type": "code",
   "execution_count": 126,
   "metadata": {},
   "outputs": [
    {
     "name": "stdout",
     "output_type": "stream",
     "text": [
      "None None None None\n"
     ]
    }
   ],
   "source": [
    "a, b = cirq.GridQubit(3,4), cirq.GridQubit(3,5)\n",
    "print(\n",
    "cirq.google.Sycamore.validate_operation(cirq.X(a)),\n",
    "cirq.google.Sycamore.validate_operation(cirq.PhasedXZGate(x_exponent=1, z_exponent=1, axis_phase_exponent=1.2)(a)),\n",
    "cirq.google.Sycamore.validate_operation(cirq.ISWAP(a,b)**0.5),\n",
    "cirq.google.Sycamore.validate_operation(cirq.google.SYC(a,b)),\n",
    ")"
   ]
  },
  {
   "cell_type": "code",
   "execution_count": 129,
   "metadata": {},
   "outputs": [],
   "source": [
    "from scipy.stats import unitary_group\n",
    "x = unitary_group.rvs(4)"
   ]
  },
  {
   "cell_type": "code",
   "execution_count": 130,
   "metadata": {},
   "outputs": [
    {
     "data": {
      "text/plain": [
       "array([[ 0.13015817+0.73287303j, -0.54007754+0.21833927j,\n",
       "        -0.25825206+0.08133333j, -0.02023084+0.18133301j],\n",
       "       [-0.32344616-0.21108196j, -0.24629772+0.14464823j,\n",
       "        -0.18616437+0.20046521j,  0.82895613-0.08502687j],\n",
       "       [ 0.20690755-0.27451764j, -0.69735823-0.16845287j,\n",
       "         0.5680897 +0.10766273j, -0.08200131-0.16156443j],\n",
       "       [-0.29561328-0.3020349j , -0.10014621+0.23311884j,\n",
       "        -0.24497241+0.67640124j, -0.46592275+0.14966605j]])"
      ]
     },
     "execution_count": 130,
     "metadata": {},
     "output_type": "execute_result"
    }
   ],
   "source": [
    "x"
   ]
  },
  {
   "cell_type": "code",
   "execution_count": 133,
   "metadata": {},
   "outputs": [
    {
     "data": {
      "text/plain": [
       "[(cirq.Y**0.5).on(cirq.GridQubit(3, 4)),\n",
       " cirq.XPowGate(exponent=1.0, global_shift=-0.25).on(cirq.GridQubit(3, 4))]"
      ]
     },
     "execution_count": 133,
     "metadata": {},
     "output_type": "execute_result"
    }
   ],
   "source": [
    "cirq.decompose(cirq.H(a))"
   ]
  },
  {
   "cell_type": "code",
   "execution_count": 147,
   "metadata": {},
   "outputs": [],
   "source": [
    "class MyGate(cirq.Gate):\n",
    "    def __init__(self):\n",
    "        super(MyGate, self)\n",
    "\n",
    "    def _num_qubits_(self):\n",
    "        return 2\n",
    "\n",
    "    def _unitary_(self):\n",
    "        return np.array([[ 0.13015817+0.73287303j, -0.54007754+0.21833927j,\n",
    "        -0.25825206+0.08133333j, -0.02023084+0.18133301j],\n",
    "       [-0.32344616-0.21108196j, -0.24629772+0.14464823j,\n",
    "        -0.18616437+0.20046521j,  0.82895613-0.08502687j],\n",
    "       [ 0.20690755-0.27451764j, -0.69735823-0.16845287j,\n",
    "         0.5680897 +0.10766273j, -0.08200131-0.16156443j],\n",
    "       [-0.29561328-0.3020349j , -0.10014621+0.23311884j,\n",
    "        -0.24497241+0.67640124j, -0.46592275+0.14966605j]])\n",
    "\n",
    "    def _circuit_diagram_info_(self, args):\n",
    "        return \"G\"\n",
    "    \n",
    "    def __str__(self):\n",
    "        return \"G\""
   ]
  },
  {
   "cell_type": "code",
   "execution_count": 152,
   "metadata": {},
   "outputs": [],
   "source": [
    "cg = MyGate()\n",
    "optest = cg.on(b,a)"
   ]
  },
  {
   "cell_type": "code",
   "execution_count": 153,
   "metadata": {},
   "outputs": [
    {
     "data": {
      "text/plain": [
       "[<__main__.MyGate object at 0x0108F410>.on(cirq.GridQubit(3, 5), cirq.GridQubit(3, 4))]"
      ]
     },
     "execution_count": 153,
     "metadata": {},
     "output_type": "execute_result"
    }
   ],
   "source": [
    "cirq.decompose(optest)"
   ]
  },
  {
   "cell_type": "code",
   "execution_count": 154,
   "metadata": {},
   "outputs": [
    {
     "data": {
      "text/plain": [
       "array([[ 0.13015817+0.73287303j, -0.54007754+0.21833927j,\n",
       "        -0.25825206+0.08133333j, -0.02023084+0.18133301j],\n",
       "       [-0.32344616-0.21108196j, -0.24629772+0.14464823j,\n",
       "        -0.18616437+0.20046521j,  0.82895613-0.08502687j],\n",
       "       [ 0.20690755-0.27451764j, -0.69735823-0.16845287j,\n",
       "         0.5680897 +0.10766273j, -0.08200131-0.16156443j],\n",
       "       [-0.29561328-0.3020349j , -0.10014621+0.23311884j,\n",
       "        -0.24497241+0.67640124j, -0.46592275+0.14966605j]])"
      ]
     },
     "execution_count": 154,
     "metadata": {},
     "output_type": "execute_result"
    }
   ],
   "source": [
    "cirq.unitary(optest)"
   ]
  },
  {
   "cell_type": "code",
   "execution_count": 156,
   "metadata": {},
   "outputs": [],
   "source": [
    "# cirq.decompose_once(optest)\n",
    "# TypeError: object of type '<class 'cirq.ops.gate_operation.GateOperation'>' does have a _decompose_ method, but it returned NotImplemented or None."
   ]
  },
  {
   "cell_type": "code",
   "execution_count": null,
   "metadata": {},
   "outputs": [],
   "source": []
  }
 ],
 "metadata": {
  "kernelspec": {
   "display_name": "Python 3",
   "language": "python",
   "name": "python3"
  },
  "language_info": {
   "codemirror_mode": {
    "name": "ipython",
    "version": 3
   },
   "file_extension": ".py",
   "mimetype": "text/x-python",
   "name": "python",
   "nbconvert_exporter": "python",
   "pygments_lexer": "ipython3",
   "version": "3.7.4"
  }
 },
 "nbformat": 4,
 "nbformat_minor": 2
}
